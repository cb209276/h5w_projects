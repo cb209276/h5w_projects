{
 "cells": [
  {
   "cell_type": "code",
   "execution_count": 26,
   "id": "56b66752",
   "metadata": {},
   "outputs": [],
   "source": [
    "import requests\n",
    "import json\n",
    "from datetime import date, timedelta, datetime\n",
    "from dateutil import parser\n",
    "import sys"
   ]
  },
  {
   "cell_type": "code",
   "execution_count": 27,
   "id": "61296750",
   "metadata": {},
   "outputs": [],
   "source": [
    "study_id = 'StudyHack'\n",
    "ae_domain_id ='ae'\n",
    "cm_domain_id = 'cm'\n",
    "base_url = 'https://pyhack-dot-pharmanlp-177020.uc.r.appspot.com/api/1/'"
   ]
  },
  {
   "cell_type": "code",
   "execution_count": 28,
   "id": "43763faf",
   "metadata": {},
   "outputs": [],
   "source": [
    "ae_subject_id_url = base_url + study_id+'/'+ae_domain_id+'/subject/list'\n",
    "cm_subject_id_url = base_url + study_id+'/'+cm_domain_id+'/subject/list'"
   ]
  },
  {
   "cell_type": "code",
   "execution_count": 29,
   "id": "50003572",
   "metadata": {},
   "outputs": [
    {
     "name": "stdout",
     "output_type": "stream",
     "text": [
      "https://pyhack-dot-pharmanlp-177020.uc.r.appspot.com/api/1/StudyHack/ae/subject/list\n"
     ]
    }
   ],
   "source": [
    "print(ae_subject_id_url)"
   ]
  },
  {
   "cell_type": "code",
   "execution_count": 30,
   "id": "14501697",
   "metadata": {},
   "outputs": [
    {
     "name": "stdout",
     "output_type": "stream",
     "text": [
      "https://pyhack-dot-pharmanlp-177020.uc.r.appspot.com/api/1/StudyHack/cm/subject/list\n"
     ]
    }
   ],
   "source": [
    "print(cm_subject_id_url)"
   ]
  },
  {
   "cell_type": "code",
   "execution_count": 31,
   "id": "433ec2dc",
   "metadata": {},
   "outputs": [],
   "source": [
    "try:\n",
    "    ae_response_data1 = requests.get(ae_subject_id_url)\n",
    "    ae_response_value1 = ae_response_data1.json()\n",
    "    ae_subject_ids = ae_response_value1[\"data\"]\n",
    "except:\n",
    "    sys.exit(\"Unable to get the values!\")"
   ]
  },
  {
   "cell_type": "code",
   "execution_count": 32,
   "id": "f88e830f",
   "metadata": {},
   "outputs": [],
   "source": [
    "try:\n",
    "    cm_response_data1 = requests.get(cm_subject_id_url)\n",
    "    cm_response_value1 = cm_response_data1.json()\n",
    "    cm_subject_ids = cm_response_value1[\"data\"]\n",
    "except:\n",
    "    sys.exit(\"Unable to get the values!\")"
   ]
  },
  {
   "cell_type": "code",
   "execution_count": 33,
   "id": "6fc7c6ec",
   "metadata": {},
   "outputs": [],
   "source": [
    "# Patient and row for which Medication is given prior to Adverse Event\n",
    "# Function will get data at subject_id level \n",
    "# Identify discrepancy and return discrepancy_list as a list \n",
    "\n",
    "def type1_check(ae_subject_data,cm_subject_data):\n",
    "    discrepancy_list = []\n",
    "\n",
    "    #Iterate through cm_subject_data\n",
    "    for cm_row in cm_subject_data:\n",
    "        cm_data = cm_row.json()\n",
    "        cmaeno = cm_data[\"cmaeno\"]\n",
    "        cmstdat = cm_data[\"cmstdat\"]\n",
    "        cmendat = cm_data[\"cmendat\"]\n",
    "        cmtrt = cm_data[\"cmtrt\"]\n",
    "        \n",
    "        #Iterate through ae_subject_data\n",
    "        for ae_row in ae_subject_data:\n",
    "            ae_data = ae_row.json()\n",
    "            aespid = ae_data[\"aespid\"]\n",
    "            aestdat = ae_data[\"aestdat\"]\n",
    "            aeendat = ae_data[\"aeendat\"]\n",
    "            aeterm = ae_data[\"aeterm\"]\n",
    "            \n",
    "            if aespid == cmaeno:\n",
    "                if cmstdat < aestdat:\n",
    "                    payload={}\n",
    "                    payload['formname'] = cm_data[\"formname\"]\n",
    "                    payload['formid'] = cm_data[\"formid\"]\n",
    "                    payload['formidx']= cm_data[\"formidx\"]\n",
    "                    payload['type'] = 'TYPE1'\n",
    "                    payload['subjectid'] = cm_data[\"subjid\"]\n",
    "                    discrepancy_list.append(payload)\n",
    "            \n",
    "    return discrepancy_list"
   ]
  },
  {
   "cell_type": "code",
   "execution_count": 34,
   "id": "d00d2ca8",
   "metadata": {},
   "outputs": [
    {
     "ename": "AttributeError",
     "evalue": "'dict' object has no attribute 'json'",
     "output_type": "error",
     "traceback": [
      "\u001b[1;31m---------------------------------------------------------------------------\u001b[0m",
      "\u001b[1;31mAttributeError\u001b[0m                            Traceback (most recent call last)",
      "\u001b[1;32m<ipython-input-34-8a77bd4852d7>\u001b[0m in \u001b[0;36m<module>\u001b[1;34m\u001b[0m\n\u001b[0;32m      9\u001b[0m     \u001b[0mcm_subject_data\u001b[0m \u001b[1;33m=\u001b[0m \u001b[0mcm_response_value2\u001b[0m\u001b[1;33m[\u001b[0m\u001b[1;34m\"data\"\u001b[0m\u001b[1;33m]\u001b[0m\u001b[1;33m\u001b[0m\u001b[1;33m\u001b[0m\u001b[0m\n\u001b[0;32m     10\u001b[0m \u001b[1;33m\u001b[0m\u001b[0m\n\u001b[1;32m---> 11\u001b[1;33m     \u001b[0mdiscrepancy_list\u001b[0m \u001b[1;33m=\u001b[0m \u001b[0mtype1_check\u001b[0m\u001b[1;33m(\u001b[0m\u001b[0mae_subject_data\u001b[0m\u001b[1;33m,\u001b[0m\u001b[0mcm_subject_data\u001b[0m\u001b[1;33m)\u001b[0m\u001b[1;33m\u001b[0m\u001b[1;33m\u001b[0m\u001b[0m\n\u001b[0m\u001b[0;32m     12\u001b[0m     \u001b[0mprint\u001b[0m\u001b[1;33m(\u001b[0m\u001b[0mdiscrepancy_list\u001b[0m\u001b[1;33m)\u001b[0m\u001b[1;33m\u001b[0m\u001b[1;33m\u001b[0m\u001b[0m\n",
      "\u001b[1;32m<ipython-input-33-b4db93cae5fb>\u001b[0m in \u001b[0;36mtype1_check\u001b[1;34m(ae_subject_data, cm_subject_data)\u001b[0m\n\u001b[0;32m      8\u001b[0m     \u001b[1;31m#Iterate through cm_subject_data\u001b[0m\u001b[1;33m\u001b[0m\u001b[1;33m\u001b[0m\u001b[1;33m\u001b[0m\u001b[0m\n\u001b[0;32m      9\u001b[0m     \u001b[1;32mfor\u001b[0m \u001b[0mcm_row\u001b[0m \u001b[1;32min\u001b[0m \u001b[0mcm_subject_data\u001b[0m\u001b[1;33m:\u001b[0m\u001b[1;33m\u001b[0m\u001b[1;33m\u001b[0m\u001b[0m\n\u001b[1;32m---> 10\u001b[1;33m         \u001b[0mcm_data\u001b[0m \u001b[1;33m=\u001b[0m \u001b[0mcm_row\u001b[0m\u001b[1;33m.\u001b[0m\u001b[0mjson\u001b[0m\u001b[1;33m(\u001b[0m\u001b[1;33m)\u001b[0m\u001b[1;33m\u001b[0m\u001b[1;33m\u001b[0m\u001b[0m\n\u001b[0m\u001b[0;32m     11\u001b[0m         \u001b[0mcmaeno\u001b[0m \u001b[1;33m=\u001b[0m \u001b[0mcm_data\u001b[0m\u001b[1;33m[\u001b[0m\u001b[1;34m\"cmaeno\"\u001b[0m\u001b[1;33m]\u001b[0m\u001b[1;33m\u001b[0m\u001b[1;33m\u001b[0m\u001b[0m\n\u001b[0;32m     12\u001b[0m         \u001b[0mcmstdat\u001b[0m \u001b[1;33m=\u001b[0m \u001b[0mcm_data\u001b[0m\u001b[1;33m[\u001b[0m\u001b[1;34m\"cmstdat\"\u001b[0m\u001b[1;33m]\u001b[0m\u001b[1;33m\u001b[0m\u001b[1;33m\u001b[0m\u001b[0m\n",
      "\u001b[1;31mAttributeError\u001b[0m: 'dict' object has no attribute 'json'"
     ]
    }
   ],
   "source": [
    "for subject in ae_subject_ids:\n",
    "    ae_subject_data_url = base_url + \"/\" + study_id+\"/\" + ae_domain_id + \"/subject/\" + str(subject)+ \"/list\"\n",
    "    ae_response_data2 = requests.get(ae_subject_data_url)\n",
    "    ae_response_value2 = ae_response_data2.json() \n",
    "    ae_subject_data = ae_response_value2[\"data\"]\n",
    "    cm_subject_data_url = base_url + \"/\" + study_id+\"/\" + ae_domain_id + \"/subject/\" + str(subject)+ \"/list\"\n",
    "    cm_response_data2 = requests.get(cm_subject_data_url)\n",
    "    cm_response_value2 = cm_response_data2.json() \n",
    "    cm_subject_data = cm_response_value2[\"data\"]\n",
    "    \n",
    "    discrepancy_list = type1_check(ae_subject_data,cm_subject_data)\n",
    "    print(discrepancy_list)"
   ]
  },
  {
   "cell_type": "code",
   "execution_count": null,
   "id": "21f697b6-f83a-41e8-94c9-39aecd405e7f",
   "metadata": {},
   "outputs": [],
   "source": []
  }
 ],
 "metadata": {
  "kernelspec": {
   "display_name": "Python 3",
   "language": "python",
   "name": "python3"
  },
  "language_info": {
   "codemirror_mode": {
    "name": "ipython",
    "version": 3
   },
   "file_extension": ".py",
   "mimetype": "text/x-python",
   "name": "python",
   "nbconvert_exporter": "python",
   "pygments_lexer": "ipython3",
   "version": "3.8.8"
  }
 },
 "nbformat": 4,
 "nbformat_minor": 5
}
