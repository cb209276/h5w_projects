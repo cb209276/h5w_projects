{
 "cells": [
  {
   "cell_type": "code",
   "execution_count": 2,
   "id": "56b66752",
   "metadata": {},
   "outputs": [],
   "source": [
    "import requests\n",
    "import json\n",
    "from datetime import date, timedelta, datetime\n",
    "from dateutil import parser\n",
    "import sys"
   ]
  },
  {
   "cell_type": "code",
   "execution_count": 3,
   "id": "61296750",
   "metadata": {},
   "outputs": [],
   "source": [
    "study_id = 'StudyHack'\n",
    "ae_domain_id ='ae'\n",
    "cm_domain_id = 'cm'\n",
    "base_url = 'https://pyhack-dot-pharmanlp-177020.uc.r.appspot.com/api/1/'"
   ]
  },
  {
   "cell_type": "code",
   "execution_count": 4,
   "id": "43763faf",
   "metadata": {},
   "outputs": [],
   "source": [
    "ae_subject_id_url = base_url + study_id+'/'+ae_domain_id+'/subject/list'\n",
    "cm_subject_id_url = base_url + study_id+'/'+cm_domain_id+'/subject/list'"
   ]
  },
  {
   "cell_type": "code",
   "execution_count": 5,
   "id": "50003572",
   "metadata": {},
   "outputs": [
    {
     "name": "stdout",
     "output_type": "stream",
     "text": [
      "https://pyhack-dot-pharmanlp-177020.uc.r.appspot.com/api/1/StudyHack/ae/subject/list\n"
     ]
    }
   ],
   "source": [
    "print(ae_subject_id_url)"
   ]
  },
  {
   "cell_type": "code",
   "execution_count": 6,
   "id": "14501697",
   "metadata": {},
   "outputs": [
    {
     "name": "stdout",
     "output_type": "stream",
     "text": [
      "https://pyhack-dot-pharmanlp-177020.uc.r.appspot.com/api/1/StudyHack/cm/subject/list\n"
     ]
    }
   ],
   "source": [
    "print(cm_subject_id_url)"
   ]
  },
  {
   "cell_type": "code",
   "execution_count": 7,
   "id": "433ec2dc",
   "metadata": {},
   "outputs": [],
   "source": [
    "try:\n",
    "    ae_response_data1 = requests.get(ae_subject_id_url)\n",
    "    ae_response_value1 = ae_response_data1.json()\n",
    "    ae_subject_ids = ae_response_value1[\"data\"]\n",
    "except:\n",
    "    sys.exit(\"Unable to get the values!\")"
   ]
  },
  {
   "cell_type": "code",
   "execution_count": 7,
   "id": "f88e830f",
   "metadata": {},
   "outputs": [],
   "source": [
    "try:\n",
    "    cm_response_data1 = requests.get(cm_subject_id_url)\n",
    "    cm_response_value1 = cm_response_data1.json()\n",
    "    cm_subject_ids = cm_response_value1[\"data\"]\n",
    "except:\n",
    "    sys.exit(\"Unable to get the values!\")\n",
    "print(cm_subject_ids)"
   ]
  },
  {
   "cell_type": "code",
   "execution_count": null,
   "id": "4cee1a46-1696-4163-84fe-26625baa3c0b",
   "metadata": {},
   "outputs": [],
   "source": []
  },
  {
   "cell_type": "code",
   "execution_count": null,
   "id": "bc3d8db6",
   "metadata": {},
   "outputs": [],
   "source": [
    "for subject in ae_subject_ids:\n",
    "    ae_subject_data_url = base_url + \"/\" + study_id+\"/\" + ae_domain_id + \"/subject/\" + str(subject)+ \"/list\"\n",
    "    ae_response_data2 = requests.get(ae_subject_data_url)\n",
    "    ae_response_value2 = ae_response_data2.json() \n",
    "    ae_subject_data = ae_response_value2[\"data\"]\n",
    "    cm_subject_data_url = base_url + \"/\" + study_id+\"/\" + ae_domain_id + \"/subject/\" + str(subject)+ \"/list\"\n",
    "    cm_response_data2 = requests.get(cm_subject_data_url)\n",
    "    cm_response_value2 = cm_response_data2.json() \n",
    "    cm_subject_data = cm_response_value2[\"data\"]\n",
    "    \n",
    "    discrepancy_list = type1_check(ae_subject_data,cm_subject_data)\n",
    "    #check whether discrepancy list is not empty then add it to discrepancy_master_list"
   ]
  },
  {
   "cell_type": "code",
   "execution_count": null,
   "id": "6fc7c6ec",
   "metadata": {},
   "outputs": [],
   "source": [
    "# Patient and row for which Medication is given prior to Adverse Event\n",
    "# Function will get data at subject_id level \n",
    "# Identify discrepancy and return discrepancy_list as a list \n",
    "\n",
    "def type1_check(ae_subject_data,cm_subject_data):\n",
    "    discrepancy_list = []\n",
    "\n",
    "    #Iterate through cm_subject_data\n",
    "    for cm_row in cm_subject_data:\n",
    "        cmaeno = cm_row[\"cmaeno\"]\n",
    "        cmstdat = cm_row[\"cmstdat\"]\n",
    "        cmendat = cm_row[\"cmendat\"]\n",
    "        cmtrt = cm_row[\"cmtrt\"]\n",
    "        \n",
    "        #Iterate through ae_subject_data\n",
    "        for ae_row in ae_subject_data:\n",
    "            aespid = ae_row[\"aespid\"]\n",
    "            aestdat = ae_row[\"aestdat\"]\n",
    "            aeendat = ae_row[\"aeendat\"]\n",
    "            aeterm = aeterm[\"cmtrt\"]\n",
    "                          \n",
    "            #Check whether aespid and cm_ae_no are equal\n",
    "                #Check whether cmstdat is lesser than aestdat\n",
    "                    #For the records satisfying condition prepare payload\n",
    "                    payload={}\n",
    "                    payload['formname'] = \"Fetch formname from cmrow\"\n",
    "                    payload['formid'] = \"Fetch formid from cmrow\"\n",
    "                    payload['formidx']= \"Fetch formidx from cmrow\"\n",
    "                    payload['type'] = 'TYPE1'\n",
    "                    payload['subjectid'] = \"Fetch subjid from cmrow\"\n",
    "                    discrepancy_list.append(payload)\n",
    "            \n",
    "    return discrepancy_list"
   ]
  },
  {
   "cell_type": "code",
   "execution_count": null,
   "id": "d00d2ca8",
   "metadata": {},
   "outputs": [],
   "source": [
    "print(cm_subject_data)"
   ]
  }
 ],
 "metadata": {
  "kernelspec": {
   "display_name": "Python 3",
   "language": "python",
   "name": "python3"
  },
  "language_info": {
   "codemirror_mode": {
    "name": "ipython",
    "version": 3
   },
   "file_extension": ".py",
   "mimetype": "text/x-python",
   "name": "python",
   "nbconvert_exporter": "python",
   "pygments_lexer": "ipython3",
   "version": "3.8.8"
  }
 },
 "nbformat": 4,
 "nbformat_minor": 5
}
